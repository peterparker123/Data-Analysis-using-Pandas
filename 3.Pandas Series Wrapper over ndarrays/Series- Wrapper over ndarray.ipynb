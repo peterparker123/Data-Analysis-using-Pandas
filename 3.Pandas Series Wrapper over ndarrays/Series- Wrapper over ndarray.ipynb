{
 "cells": [
  {
   "cell_type": "markdown",
   "id": "af9722af",
   "metadata": {},
   "source": [
    "### Series.array - Wrapper over ndarray\n",
    "\n",
    "- The ExtensionArray of the data backing this Series or Index.\n",
    "\n",
    "    - Returns: ExtensionArray\n",
    "        - An ExtensionArray of the values stored within. For extension types, this is the actual array. For NumPy native types, this is a thin (no copy) wrapper around numpy.ndarray\n",
    "        - .array differs .values which may require converting the data to a different form.\n",
    "        \n",
    "- For regular NumPy types like int, and float, a NumpyExtensionArray is returned."
   ]
  },
  {
   "cell_type": "code",
   "execution_count": 2,
   "id": "a03fe6b7",
   "metadata": {},
   "outputs": [],
   "source": [
    "import pandas as pd"
   ]
  },
  {
   "cell_type": "code",
   "execution_count": 3,
   "id": "89232a58",
   "metadata": {},
   "outputs": [
    {
     "data": {
      "text/plain": [
       "<PandasArray>\n",
       "[1, 2, 3]\n",
       "Length: 3, dtype: int64"
      ]
     },
     "execution_count": 3,
     "metadata": {},
     "output_type": "execute_result"
    }
   ],
   "source": [
    "pd.Series([1, 2, 3]).array"
   ]
  },
  {
   "cell_type": "markdown",
   "id": "fd6c528a",
   "metadata": {},
   "source": [
    "- For extension types, like Categorical, the actual ExtensionArray is returned"
   ]
  },
  {
   "cell_type": "code",
   "execution_count": 4,
   "id": "f9a5d157",
   "metadata": {},
   "outputs": [
    {
     "data": {
      "text/plain": [
       "['a', 'b', 'a']\n",
       "Categories (2, object): ['a', 'b']"
      ]
     },
     "execution_count": 4,
     "metadata": {},
     "output_type": "execute_result"
    }
   ],
   "source": [
    "ser = pd.Series(pd.Categorical(['a', 'b', 'a']))\n",
    "ser.array"
   ]
  },
  {
   "cell_type": "markdown",
   "id": "48589bc3",
   "metadata": {},
   "source": [
    "###  Converting Series from csv file into an ndarray\n",
    "\n",
    "- Read an HR Analytics file, whose one column would be converted to a Series\n",
    "- The Series would then be transformed into ndarray by using Wrapper of Pandas Array Series"
   ]
  },
  {
   "cell_type": "code",
   "execution_count": 8,
   "id": "d4a64dbb",
   "metadata": {},
   "outputs": [
    {
     "data": {
      "text/plain": [
       "['EmpID',\n",
       " 'Age',\n",
       " 'AgeGroup',\n",
       " 'Attrition',\n",
       " 'BusinessTravel',\n",
       " 'DailyRate',\n",
       " 'Department',\n",
       " 'DistanceFromHome',\n",
       " 'Education',\n",
       " 'EducationField',\n",
       " 'EmployeeCount',\n",
       " 'EmployeeNumber',\n",
       " 'EnvironmentSatisfaction',\n",
       " 'Gender',\n",
       " 'HourlyRate',\n",
       " 'JobInvolvement',\n",
       " 'JobLevel',\n",
       " 'JobRole',\n",
       " 'JobSatisfaction',\n",
       " 'MaritalStatus',\n",
       " 'MonthlyIncome',\n",
       " 'SalarySlab',\n",
       " 'MonthlyRate',\n",
       " 'NumCompaniesWorked',\n",
       " 'Over18',\n",
       " 'OverTime',\n",
       " 'PercentSalaryHike',\n",
       " 'PerformanceRating',\n",
       " 'RelationshipSatisfaction',\n",
       " 'StandardHours',\n",
       " 'StockOptionLevel',\n",
       " 'TotalWorkingYears',\n",
       " 'TrainingTimesLastYear',\n",
       " 'WorkLifeBalance',\n",
       " 'YearsAtCompany',\n",
       " 'YearsInCurrentRole',\n",
       " 'YearsSinceLastPromotion',\n",
       " 'YearsWithCurrManager']"
      ]
     },
     "execution_count": 8,
     "metadata": {},
     "output_type": "execute_result"
    }
   ],
   "source": [
    "data = pd.read_csv(\"HR_Analytics.csv\")\n",
    "\n",
    "# find out the name of the columns of the csv file\n",
    "list(data.columns)"
   ]
  },
  {
   "cell_type": "code",
   "execution_count": 7,
   "id": "ca80d22f",
   "metadata": {},
   "outputs": [
    {
     "name": "stdout",
     "output_type": "stream",
     "text": [
      "EmpID Age AgeGroup Attrition BusinessTravel DailyRate Department DistanceFromHome Education EducationField EmployeeCount EmployeeNumber EnvironmentSatisfaction Gender HourlyRate JobInvolvement JobLevel JobRole JobSatisfaction MaritalStatus MonthlyIncome SalarySlab MonthlyRate NumCompaniesWorked Over18 OverTime PercentSalaryHike PerformanceRating RelationshipSatisfaction StandardHours StockOptionLevel TotalWorkingYears TrainingTimesLastYear WorkLifeBalance YearsAtCompany YearsInCurrentRole YearsSinceLastPromotion YearsWithCurrManager "
     ]
    }
   ],
   "source": [
    "# Iterate over the columns\n",
    "for i in data.columns:\n",
    "    print(i, end= \" \")"
   ]
  },
  {
   "cell_type": "markdown",
   "id": "ac57667e",
   "metadata": {},
   "source": [
    "- Convert the Education column of the HR Analytics into a Series"
   ]
  },
  {
   "cell_type": "code",
   "execution_count": 42,
   "id": "5f76300b",
   "metadata": {},
   "outputs": [
    {
     "data": {
      "text/plain": [
       "0       Life Sciences\n",
       "1             Medical\n",
       "2           Marketing\n",
       "3       Life Sciences\n",
       "4             Medical\n",
       "            ...      \n",
       "1475    Life Sciences\n",
       "1476        Marketing\n",
       "1477        Marketing\n",
       "1478        Marketing\n",
       "1479          Medical\n",
       "Name: EducationField, Length: 1480, dtype: object"
      ]
     },
     "execution_count": 42,
     "metadata": {},
     "output_type": "execute_result"
    }
   ],
   "source": [
    "my_series = data[\"EducationField\"].squeeze()\n",
    "my_series"
   ]
  },
  {
   "cell_type": "code",
   "execution_count": 43,
   "id": "3f8d4d4a",
   "metadata": {},
   "outputs": [
    {
     "data": {
      "text/plain": [
       "pandas.core.series.Series"
      ]
     },
     "execution_count": 43,
     "metadata": {},
     "output_type": "execute_result"
    }
   ],
   "source": [
    "type(my_series)"
   ]
  },
  {
   "cell_type": "code",
   "execution_count": 44,
   "id": "d50aef17",
   "metadata": {},
   "outputs": [
    {
     "data": {
      "text/plain": [
       "0       Life Sciences\n",
       "1             Medical\n",
       "2           Marketing\n",
       "3       Life Sciences\n",
       "4             Medical\n",
       "            ...      \n",
       "1475    Life Sciences\n",
       "1476        Marketing\n",
       "1477        Marketing\n",
       "1478        Marketing\n",
       "1479          Medical\n",
       "Name: EducationField, Length: 1480, dtype: object"
      ]
     },
     "execution_count": 44,
     "metadata": {},
     "output_type": "execute_result"
    }
   ],
   "source": [
    "# Identify the duplicate value\n",
    "my_series[my_series.duplicated(keep=False)]"
   ]
  },
  {
   "cell_type": "code",
   "execution_count": 45,
   "id": "bd4eb050",
   "metadata": {},
   "outputs": [],
   "source": [
    "my_series.drop_duplicates(inplace= True)"
   ]
  },
  {
   "cell_type": "code",
   "execution_count": 46,
   "id": "3c57b6de",
   "metadata": {},
   "outputs": [
    {
     "data": {
      "text/plain": [
       "0        Life Sciences\n",
       "1              Medical\n",
       "2            Marketing\n",
       "10    Technical Degree\n",
       "13               Other\n",
       "93     Human Resources\n",
       "Name: EducationField, dtype: object"
      ]
     },
     "execution_count": 46,
     "metadata": {},
     "output_type": "execute_result"
    }
   ],
   "source": [
    "my_series"
   ]
  },
  {
   "cell_type": "code",
   "execution_count": 22,
   "id": "a7be26d9",
   "metadata": {},
   "outputs": [
    {
     "data": {
      "text/plain": [
       "6"
      ]
     },
     "execution_count": 22,
     "metadata": {},
     "output_type": "execute_result"
    }
   ],
   "source": [
    "# Reindex the Series index\n",
    "len(my_series)"
   ]
  },
  {
   "cell_type": "code",
   "execution_count": 23,
   "id": "f1a96627",
   "metadata": {},
   "outputs": [
    {
     "data": {
      "text/plain": [
       "range(0, 6)"
      ]
     },
     "execution_count": 23,
     "metadata": {},
     "output_type": "execute_result"
    }
   ],
   "source": [
    "range(len(my_series))"
   ]
  },
  {
   "cell_type": "code",
   "execution_count": 47,
   "id": "1624c89b",
   "metadata": {},
   "outputs": [],
   "source": [
    "my_series= my_series.reset_index(drop=True)"
   ]
  },
  {
   "cell_type": "code",
   "execution_count": 48,
   "id": "37a4a340",
   "metadata": {},
   "outputs": [
    {
     "data": {
      "text/plain": [
       "0       Life Sciences\n",
       "1             Medical\n",
       "2           Marketing\n",
       "3    Technical Degree\n",
       "4               Other\n",
       "5     Human Resources\n",
       "Name: EducationField, dtype: object"
      ]
     },
     "execution_count": 48,
     "metadata": {},
     "output_type": "execute_result"
    }
   ],
   "source": [
    "my_series"
   ]
  },
  {
   "cell_type": "code",
   "execution_count": 49,
   "id": "96f7a4a6",
   "metadata": {},
   "outputs": [
    {
     "data": {
      "text/plain": [
       "<PandasArray>\n",
       "[   'Life Sciences',          'Medical',        'Marketing',\n",
       " 'Technical Degree',            'Other',  'Human Resources']\n",
       "Length: 6, dtype: object"
      ]
     },
     "execution_count": 49,
     "metadata": {},
     "output_type": "execute_result"
    }
   ],
   "source": [
    "# Convert the  Series into an array\n",
    "my_series.array"
   ]
  },
  {
   "cell_type": "code",
   "execution_count": null,
   "id": "c3f8af2d",
   "metadata": {},
   "outputs": [],
   "source": []
  }
 ],
 "metadata": {
  "kernelspec": {
   "display_name": "Python 3 (ipykernel)",
   "language": "python",
   "name": "python3"
  },
  "language_info": {
   "codemirror_mode": {
    "name": "ipython",
    "version": 3
   },
   "file_extension": ".py",
   "mimetype": "text/x-python",
   "name": "python",
   "nbconvert_exporter": "python",
   "pygments_lexer": "ipython3",
   "version": "3.10.9"
  }
 },
 "nbformat": 4,
 "nbformat_minor": 5
}
