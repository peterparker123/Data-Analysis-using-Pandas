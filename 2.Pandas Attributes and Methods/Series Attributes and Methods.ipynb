{
 "cells": [
  {
   "cell_type": "markdown",
   "id": "e62d59f4",
   "metadata": {},
   "source": [
    "# Pandas.Series\n",
    "\n",
    "### One-dimensional ndarray with axis labels (including time series).\n",
    "\n",
    "- Labels need not be unique but must be a hashable type. \n",
    "- The object supports both integer- and label-based indexing and provides a host of methods for performing operations involving the index. \n",
    "- Statistical methods from ndarray have been overridden to automatically exclude missing data (currently represented as NaN).\n",
    "\n",
    "Operations between Series (+, -, /, *, **) align values based on their associated index values– they need not be the same length. The result index will be the sorted union of the two indexes.\n",
    "\n",
    "### Parameters:\n",
    "- data: array-like, Iterable, dict, or scalar value\n",
    "     - Contains data stored in Series. If data is a dict, argument order is maintained.\n",
    "\n",
    "- index: array-like or Index (1d)\n",
    "    - Values must be hashable and have the same length as data. \n",
    "    - Non-unique index values are allowed. \n",
    "    - Will default to RangeIndex (0, 1, 2, …, n) if not provided. \n",
    "    - If data is dict-like and index is None, then the keys in the data are used as the index. \n",
    "    - If the index is not None, the resulting Series is reindexed with the index values.\n",
    "\n",
    "- dtype: str, numpy.dtype, or ExtensionDtype, optional\n",
    "    - Data type for the output Series. If not specified, this will be inferred from data. See the user guide for more usages.\n",
    "\n",
    "- name: Hashable, default None\n",
    "    - The name to give to the Series.\n",
    "\n",
    "- copy: bool, default False\n",
    "    - Copy input data. Only affects Series or 1d ndarray input. See examples."
   ]
  },
  {
   "cell_type": "markdown",
   "id": "53706591",
   "metadata": {},
   "source": [
    "### Example:\n",
    "- Constructing Series from a dictionary with an Index specified"
   ]
  },
  {
   "cell_type": "code",
   "execution_count": 2,
   "id": "1103bac2",
   "metadata": {},
   "outputs": [
    {
     "data": {
      "text/plain": [
       "a    1\n",
       "b    2\n",
       "c    3\n",
       "dtype: int64"
      ]
     },
     "execution_count": 2,
     "metadata": {},
     "output_type": "execute_result"
    }
   ],
   "source": [
    "import pandas as pd\n",
    "d = {'a': 1, 'b': 2, 'c': 3}\n",
    "ser = pd.Series(data=d, index=['a', 'b', 'c'])\n",
    "ser"
   ]
  },
  {
   "cell_type": "code",
   "execution_count": 3,
   "id": "7d8fcbdf",
   "metadata": {},
   "outputs": [
    {
     "data": {
      "text/plain": [
       "x   NaN\n",
       "y   NaN\n",
       "z   NaN\n",
       "dtype: float64"
      ]
     },
     "execution_count": 3,
     "metadata": {},
     "output_type": "execute_result"
    }
   ],
   "source": [
    "# The keys of the dictionary match with the Index values, hence the Index values have no effect.\n",
    "d = {'a': 1, 'b': 2, 'c': 3}\n",
    "ser = pd.Series(data=d, index=['x', 'y', 'z'])\n",
    "ser"
   ]
  },
  {
   "cell_type": "markdown",
   "id": "dcf22b77",
   "metadata": {},
   "source": [
    "- Index is first build with the keys from the dictionary. \n",
    "- After this the Series is reindexed with the given Index values, hence we get all NaN as a result.\n",
    "\n",
    "### Constructing Series from a list with copy=False.\n",
    "\n",
    "- Due to input data type the Series has a copy of the original data even though copy=False, so the data is unchanged."
   ]
  },
  {
   "cell_type": "code",
   "execution_count": 5,
   "id": "dc1274e9",
   "metadata": {},
   "outputs": [],
   "source": [
    "r = [1, 2]\n",
    "ser = pd.Series(r, copy=False)\n",
    "ser.iloc[0] = 999"
   ]
  },
  {
   "cell_type": "code",
   "execution_count": 6,
   "id": "584ee93a",
   "metadata": {},
   "outputs": [
    {
     "data": {
      "text/plain": [
       "0    999\n",
       "1      2\n",
       "dtype: int64"
      ]
     },
     "execution_count": 6,
     "metadata": {},
     "output_type": "execute_result"
    }
   ],
   "source": [
    "ser"
   ]
  },
  {
   "cell_type": "markdown",
   "id": "64f90f2b",
   "metadata": {},
   "source": [
    "### Constructing Series from a 1d ndarray with copy=False.\n"
   ]
  },
  {
   "cell_type": "code",
   "execution_count": 7,
   "id": "b1e38cd1",
   "metadata": {},
   "outputs": [
    {
     "data": {
      "text/plain": [
       "[1, 2]"
      ]
     },
     "execution_count": 7,
     "metadata": {},
     "output_type": "execute_result"
    }
   ],
   "source": [
    "ser = pd.Series(r, copy=False)\n",
    "ser.iloc[0] = 999\n",
    "r"
   ]
  },
  {
   "cell_type": "code",
   "execution_count": 8,
   "id": "3b6ba00c",
   "metadata": {},
   "outputs": [
    {
     "data": {
      "text/plain": [
       "0    999\n",
       "1      2\n",
       "dtype: int64"
      ]
     },
     "execution_count": 8,
     "metadata": {},
     "output_type": "execute_result"
    }
   ],
   "source": [
    "ser"
   ]
  },
  {
   "cell_type": "markdown",
   "id": "65f35703",
   "metadata": {},
   "source": [
    "### Series Attributes and Methods\n",
    "- Reading Employment To Population Data File and applying various pandas series and attributes on it"
   ]
  },
  {
   "cell_type": "code",
   "execution_count": 9,
   "id": "c5622ee9",
   "metadata": {},
   "outputs": [],
   "source": [
    "import pandas as pd"
   ]
  },
  {
   "cell_type": "code",
   "execution_count": 28,
   "id": "9046ea3e",
   "metadata": {},
   "outputs": [
    {
     "data": {
      "text/plain": [
       "0     2022\n",
       "1     2021\n",
       "2     2020\n",
       "3     2019\n",
       "4     2018\n",
       "5     2017\n",
       "6     2016\n",
       "7     2015\n",
       "8     2014\n",
       "9     2013\n",
       "10    2012\n",
       "11    2011\n",
       "12    2010\n",
       "13    2009\n",
       "14    2008\n",
       "15    2007\n",
       "16    2006\n",
       "17    2005\n",
       "18    2004\n",
       "19    2003\n",
       "20    2002\n",
       "21    2001\n",
       "22    2000\n",
       "23    1999\n",
       "24    1998\n",
       "25    1997\n",
       "26    1996\n",
       "27    1995\n",
       "28    1994\n",
       "29    1993\n",
       "30    1992\n",
       "31    1991\n",
       "32    1990\n",
       "33    1989\n",
       "34    1988\n",
       "35    1987\n",
       "36    1986\n",
       "37    1985\n",
       "38    1984\n",
       "39    1983\n",
       "40    1982\n",
       "41    1981\n",
       "42    1980\n",
       "43    1979\n",
       "Name: year, dtype: int64"
      ]
     },
     "execution_count": 28,
     "metadata": {},
     "output_type": "execute_result"
    }
   ],
   "source": [
    "s = pd.read_csv(\"employment_to_population_1979_to_2022.csv\",usecols=[\"year\"]).squeeze()\n",
    "s"
   ]
  },
  {
   "cell_type": "code",
   "execution_count": 29,
   "id": "b51d0f4c",
   "metadata": {},
   "outputs": [
    {
     "data": {
      "text/plain": [
       "pandas.core.series.Series"
      ]
     },
     "execution_count": 29,
     "metadata": {},
     "output_type": "execute_result"
    }
   ],
   "source": [
    "# Check the dtype \n",
    "type(s)"
   ]
  },
  {
   "cell_type": "markdown",
   "id": "d2d0e856",
   "metadata": {},
   "source": [
    "# Attributes\n",
    "\n",
    "### Series.index - The index (axis labels) of the Series."
   ]
  },
  {
   "cell_type": "code",
   "execution_count": 30,
   "id": "03f258e9",
   "metadata": {},
   "outputs": [
    {
     "data": {
      "text/plain": [
       "RangeIndex(start=0, stop=44, step=1)"
      ]
     },
     "execution_count": 30,
     "metadata": {},
     "output_type": "execute_result"
    }
   ],
   "source": [
    "s.index"
   ]
  },
  {
   "cell_type": "markdown",
   "id": "5a997fdf",
   "metadata": {},
   "source": [
    "### Series.values - Return Series as ndarray or ndarray-like depending on the dtype."
   ]
  },
  {
   "cell_type": "code",
   "execution_count": 31,
   "id": "9417b63b",
   "metadata": {},
   "outputs": [
    {
     "data": {
      "text/plain": [
       "array([2022, 2021, 2020, 2019, 2018, 2017, 2016, 2015, 2014, 2013, 2012,\n",
       "       2011, 2010, 2009, 2008, 2007, 2006, 2005, 2004, 2003, 2002, 2001,\n",
       "       2000, 1999, 1998, 1997, 1996, 1995, 1994, 1993, 1992, 1991, 1990,\n",
       "       1989, 1988, 1987, 1986, 1985, 1984, 1983, 1982, 1981, 1980, 1979],\n",
       "      dtype=int64)"
      ]
     },
     "execution_count": 31,
     "metadata": {},
     "output_type": "execute_result"
    }
   ],
   "source": [
    "s.values"
   ]
  },
  {
   "cell_type": "markdown",
   "id": "225c1ce9",
   "metadata": {},
   "source": [
    "###  Series.dtype - Return the dtype object of the underlying data."
   ]
  },
  {
   "cell_type": "code",
   "execution_count": 32,
   "id": "d3fd12d8",
   "metadata": {},
   "outputs": [
    {
     "data": {
      "text/plain": [
       "dtype('int64')"
      ]
     },
     "execution_count": 32,
     "metadata": {},
     "output_type": "execute_result"
    }
   ],
   "source": [
    "s.dtype"
   ]
  },
  {
   "cell_type": "markdown",
   "id": "01aa61e8",
   "metadata": {},
   "source": [
    "### Series.shape - Return a tuple of the shape of the underlying data."
   ]
  },
  {
   "cell_type": "code",
   "execution_count": 33,
   "id": "872799cd",
   "metadata": {},
   "outputs": [
    {
     "data": {
      "text/plain": [
       "(44,)"
      ]
     },
     "execution_count": 33,
     "metadata": {},
     "output_type": "execute_result"
    }
   ],
   "source": [
    "s.shape"
   ]
  },
  {
   "cell_type": "markdown",
   "id": "be8de95e",
   "metadata": {},
   "source": [
    "###  Series.dtypes - Return the dtype object of the underlying data."
   ]
  },
  {
   "cell_type": "code",
   "execution_count": 34,
   "id": "a95ae28f",
   "metadata": {},
   "outputs": [
    {
     "data": {
      "text/plain": [
       "dtype('int64')"
      ]
     },
     "execution_count": 34,
     "metadata": {},
     "output_type": "execute_result"
    }
   ],
   "source": [
    "s.dtypes"
   ]
  },
  {
   "cell_type": "markdown",
   "id": "86f8813c",
   "metadata": {},
   "source": [
    "### Series.name - Return the name of the Series."
   ]
  },
  {
   "cell_type": "code",
   "execution_count": 35,
   "id": "479e88e1",
   "metadata": {},
   "outputs": [
    {
     "data": {
      "text/plain": [
       "'year'"
      ]
     },
     "execution_count": 35,
     "metadata": {},
     "output_type": "execute_result"
    }
   ],
   "source": [
    "s.name"
   ]
  },
  {
   "cell_type": "code",
   "execution_count": 39,
   "id": "fe40fdec",
   "metadata": {},
   "outputs": [
    {
     "data": {
      "text/plain": [
       "0     58.5\n",
       "1     56.5\n",
       "2     60.8\n",
       "3     60.5\n",
       "4     60.1\n",
       "5     59.7\n",
       "6     59.4\n",
       "7     59.1\n",
       "8     58.6\n",
       "9     58.6\n",
       "10    58.4\n",
       "11    58.5\n",
       "12    59.1\n",
       "13    62.0\n",
       "14    63.0\n",
       "15    63.2\n",
       "16    62.7\n",
       "17    62.3\n",
       "18    62.3\n",
       "19    62.7\n",
       "20    63.5\n",
       "21    64.4\n",
       "22    64.3\n",
       "23    64.1\n",
       "24    63.9\n",
       "25    63.3\n",
       "26    62.9\n",
       "27    62.7\n",
       "28    61.8\n",
       "29    61.5\n",
       "30    61.6\n",
       "31    62.7\n",
       "32    63.0\n",
       "33    62.4\n",
       "34    61.6\n",
       "35    60.8\n",
       "36    60.3\n",
       "37    59.7\n",
       "38    58.2\n",
       "39    57.8\n",
       "40    59.0\n",
       "41    59.2\n",
       "42    60.1\n",
       "43    59.6\n",
       "Name: all, dtype: float64"
      ]
     },
     "execution_count": 39,
     "metadata": {},
     "output_type": "execute_result"
    }
   ],
   "source": [
    "s = pd.read_csv(\"employment_to_population_1979_to_2022.csv\",usecols=[\"all\"]).squeeze()\n",
    "s"
   ]
  },
  {
   "cell_type": "markdown",
   "id": "de035845",
   "metadata": {},
   "source": [
    "# Series Methods\n",
    "\n",
    "### Series.count() - Return number of non-NA/null observations in the Series.\n",
    "\n"
   ]
  },
  {
   "cell_type": "code",
   "execution_count": 40,
   "id": "ee504c8c",
   "metadata": {},
   "outputs": [
    {
     "data": {
      "text/plain": [
       "44"
      ]
     },
     "execution_count": 40,
     "metadata": {},
     "output_type": "execute_result"
    }
   ],
   "source": [
    "s.count()"
   ]
  },
  {
   "cell_type": "markdown",
   "id": "34915a2f",
   "metadata": {},
   "source": [
    "### Series.max() -  Return the maximum of the values over the requested axis."
   ]
  },
  {
   "cell_type": "code",
   "execution_count": 41,
   "id": "b99eea18",
   "metadata": {},
   "outputs": [
    {
     "data": {
      "text/plain": [
       "64.4"
      ]
     },
     "execution_count": 41,
     "metadata": {},
     "output_type": "execute_result"
    }
   ],
   "source": [
    "s.max()"
   ]
  },
  {
   "cell_type": "markdown",
   "id": "20cc685c",
   "metadata": {},
   "source": [
    "### Series.min() -  Return the minimum of the values over the requested axis."
   ]
  },
  {
   "cell_type": "code",
   "execution_count": 42,
   "id": "6cd2ee6e",
   "metadata": {},
   "outputs": [
    {
     "data": {
      "text/plain": [
       "56.5"
      ]
     },
     "execution_count": 42,
     "metadata": {},
     "output_type": "execute_result"
    }
   ],
   "source": [
    "s.min()"
   ]
  },
  {
   "cell_type": "markdown",
   "id": "f7f6d8fd",
   "metadata": {},
   "source": [
    "### Series.mean([axis, skipna, numeric_only]) - Return the mean of the values over the requested axis."
   ]
  },
  {
   "cell_type": "code",
   "execution_count": 43,
   "id": "362bebae",
   "metadata": {},
   "outputs": [
    {
     "data": {
      "text/plain": [
       "61.0090909090909"
      ]
     },
     "execution_count": 43,
     "metadata": {},
     "output_type": "execute_result"
    }
   ],
   "source": [
    "s.mean()"
   ]
  },
  {
   "cell_type": "markdown",
   "id": "e7a9e9e6",
   "metadata": {},
   "source": [
    "### Series.rank([axis, method, numeric_only, ...]) - Compute numerical data ranks (1 through n) along axis."
   ]
  },
  {
   "cell_type": "code",
   "execution_count": 44,
   "id": "74a85680",
   "metadata": {},
   "outputs": [
    {
     "data": {
      "text/plain": [
       "0      5.5\n",
       "1      1.0\n",
       "2     21.5\n",
       "3     20.0\n",
       "4     17.5\n",
       "5     15.5\n",
       "6     13.0\n",
       "7     10.5\n",
       "8      7.5\n",
       "9      7.5\n",
       "10     4.0\n",
       "11     5.5\n",
       "12    10.5\n",
       "13    27.0\n",
       "14    36.5\n",
       "15    38.0\n",
       "16    32.5\n",
       "17    28.5\n",
       "18    28.5\n",
       "19    32.5\n",
       "20    40.0\n",
       "21    44.0\n",
       "22    43.0\n",
       "23    42.0\n",
       "24    41.0\n",
       "25    39.0\n",
       "26    35.0\n",
       "27    32.5\n",
       "28    26.0\n",
       "29    23.0\n",
       "30    24.5\n",
       "31    32.5\n",
       "32    36.5\n",
       "33    30.0\n",
       "34    24.5\n",
       "35    21.5\n",
       "36    19.0\n",
       "37    15.5\n",
       "38     3.0\n",
       "39     2.0\n",
       "40     9.0\n",
       "41    12.0\n",
       "42    17.5\n",
       "43    14.0\n",
       "Name: all, dtype: float64"
      ]
     },
     "execution_count": 44,
     "metadata": {},
     "output_type": "execute_result"
    }
   ],
   "source": [
    "s.rank()"
   ]
  },
  {
   "cell_type": "markdown",
   "id": "e6e21514",
   "metadata": {},
   "source": [
    "### Series.sum([axis, skipna, numeric_only, ...])- Return the sum of the values over the requested axis."
   ]
  },
  {
   "cell_type": "code",
   "execution_count": 45,
   "id": "a8a62b1f",
   "metadata": {},
   "outputs": [
    {
     "data": {
      "text/plain": [
       "2684.3999999999996"
      ]
     },
     "execution_count": 45,
     "metadata": {},
     "output_type": "execute_result"
    }
   ],
   "source": [
    "s.sum()"
   ]
  },
  {
   "cell_type": "markdown",
   "id": "37a9e448",
   "metadata": {},
   "source": [
    "### Series.var([axis, skipna, ddof, numeric_only]) - Return unbiased variance over requested axis."
   ]
  },
  {
   "cell_type": "code",
   "execution_count": 46,
   "id": "784b73a7",
   "metadata": {},
   "outputs": [
    {
     "data": {
      "text/plain": [
       "4.229682875264268"
      ]
     },
     "execution_count": 46,
     "metadata": {},
     "output_type": "execute_result"
    }
   ],
   "source": [
    "s.var()"
   ]
  },
  {
   "cell_type": "markdown",
   "id": "a5500584",
   "metadata": {},
   "source": [
    "### Series.where(cond[, other, inplace, axis, level]) - Replace values where the condition is False."
   ]
  },
  {
   "cell_type": "code",
   "execution_count": 50,
   "id": "36120493",
   "metadata": {},
   "outputs": [
    {
     "data": {
      "text/plain": [
       "0      0.0\n",
       "1      0.0\n",
       "2     60.8\n",
       "3     60.5\n",
       "4     60.1\n",
       "5      0.0\n",
       "6      0.0\n",
       "7      0.0\n",
       "8      0.0\n",
       "9      0.0\n",
       "10     0.0\n",
       "11     0.0\n",
       "12     0.0\n",
       "13    62.0\n",
       "14    63.0\n",
       "15    63.2\n",
       "16    62.7\n",
       "17    62.3\n",
       "18    62.3\n",
       "19    62.7\n",
       "20    63.5\n",
       "21    64.4\n",
       "22    64.3\n",
       "23    64.1\n",
       "24    63.9\n",
       "25    63.3\n",
       "26    62.9\n",
       "27    62.7\n",
       "28    61.8\n",
       "29    61.5\n",
       "30    61.6\n",
       "31    62.7\n",
       "32    63.0\n",
       "33    62.4\n",
       "34    61.6\n",
       "35    60.8\n",
       "36    60.3\n",
       "37     0.0\n",
       "38     0.0\n",
       "39     0.0\n",
       "40     0.0\n",
       "41     0.0\n",
       "42    60.1\n",
       "43     0.0\n",
       "Name: all, dtype: float64"
      ]
     },
     "execution_count": 50,
     "metadata": {},
     "output_type": "execute_result"
    }
   ],
   "source": [
    "s.where(s > 60, other = 0)"
   ]
  },
  {
   "cell_type": "markdown",
   "id": "b6138250",
   "metadata": {},
   "source": [
    "### Series.describe([percentiles, include, exclude]) - Generate descriptive statistics."
   ]
  },
  {
   "cell_type": "code",
   "execution_count": 51,
   "id": "d7de5f2e",
   "metadata": {},
   "outputs": [
    {
     "data": {
      "text/plain": [
       "count    44.000000\n",
       "mean     61.009091\n",
       "std       2.056619\n",
       "min      56.500000\n",
       "25%      59.175000\n",
       "50%      61.150000\n",
       "75%      62.700000\n",
       "max      64.400000\n",
       "Name: all, dtype: float64"
      ]
     },
     "execution_count": 51,
     "metadata": {},
     "output_type": "execute_result"
    }
   ],
   "source": [
    "s.describe()"
   ]
  },
  {
   "cell_type": "markdown",
   "id": "60b5b4be",
   "metadata": {},
   "source": [
    "### Series.diff([periods]) - First discrete difference of element"
   ]
  },
  {
   "cell_type": "code",
   "execution_count": 52,
   "id": "3eb4d500",
   "metadata": {},
   "outputs": [
    {
     "data": {
      "text/plain": [
       "0     NaN\n",
       "1    -2.0\n",
       "2     4.3\n",
       "3    -0.3\n",
       "4    -0.4\n",
       "5    -0.4\n",
       "6    -0.3\n",
       "7    -0.3\n",
       "8    -0.5\n",
       "9     0.0\n",
       "10   -0.2\n",
       "11    0.1\n",
       "12    0.6\n",
       "13    2.9\n",
       "14    1.0\n",
       "15    0.2\n",
       "16   -0.5\n",
       "17   -0.4\n",
       "18    0.0\n",
       "19    0.4\n",
       "20    0.8\n",
       "21    0.9\n",
       "22   -0.1\n",
       "23   -0.2\n",
       "24   -0.2\n",
       "25   -0.6\n",
       "26   -0.4\n",
       "27   -0.2\n",
       "28   -0.9\n",
       "29   -0.3\n",
       "30    0.1\n",
       "31    1.1\n",
       "32    0.3\n",
       "33   -0.6\n",
       "34   -0.8\n",
       "35   -0.8\n",
       "36   -0.5\n",
       "37   -0.6\n",
       "38   -1.5\n",
       "39   -0.4\n",
       "40    1.2\n",
       "41    0.2\n",
       "42    0.9\n",
       "43   -0.5\n",
       "Name: all, dtype: float64"
      ]
     },
     "execution_count": 52,
     "metadata": {},
     "output_type": "execute_result"
    }
   ],
   "source": [
    "s.diff()"
   ]
  },
  {
   "cell_type": "code",
   "execution_count": null,
   "id": "32777093",
   "metadata": {},
   "outputs": [],
   "source": []
  }
 ],
 "metadata": {
  "kernelspec": {
   "display_name": "Python 3 (ipykernel)",
   "language": "python",
   "name": "python3"
  },
  "language_info": {
   "codemirror_mode": {
    "name": "ipython",
    "version": 3
   },
   "file_extension": ".py",
   "mimetype": "text/x-python",
   "name": "python",
   "nbconvert_exporter": "python",
   "pygments_lexer": "ipython3",
   "version": "3.10.9"
  }
 },
 "nbformat": 4,
 "nbformat_minor": 5
}
