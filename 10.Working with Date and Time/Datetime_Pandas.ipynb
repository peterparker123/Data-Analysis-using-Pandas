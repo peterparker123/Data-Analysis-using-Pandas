{
 "cells": [
  {
   "cell_type": "markdown",
   "metadata": {
    "colab_type": "text",
    "id": "view-in-github"
   },
   "source": [
    "<a href=\"https://colab.research.google.com/github/EthanDuog/Datetime_Pandas/blob/main/Datetime_Pandas.ipynb\" target=\"_parent\"><img src=\"https://colab.research.google.com/assets/colab-badge.svg\" alt=\"Open In Colab\"/></a>"
   ]
  },
  {
   "cell_type": "markdown",
   "metadata": {
    "id": "Gwap9qfW7l3C"
   },
   "source": [
    "# Datetime_Pandas\n",
    "How Pandas handles dates and times through the DateTime data type."
   ]
  },
  {
   "cell_type": "markdown",
   "metadata": {
    "id": "pdzkh0rJ7ix7"
   },
   "source": [
    "Dates and times are an essential part of many data sets and can play a critical role in data analysis. In this blog, we'll explore how to work with dates and times in Pandas, one of the most widely used data analysis libraries in Python.\n",
    "\n",
    "First, let's cover the basics. In Pandas, dates and times are stored as special data types, namely Timestamp and DatetimeIndex. To create a Timestamp, we can use the pandas.Timestamp function, which accepts a variety of inputs, including strings and integers. DatetimeIndex is a type of Index in Pandas that is specifically designed to store dates and times. To create a DatetimeIndex, we can use the pandas.to_datetime function, which can parse a wide range of date and time formats."
   ]
  },
  {
   "cell_type": "markdown",
   "metadata": {
    "id": "zJe2wF5v7995"
   },
   "source": [
    "# Outline:\n",
    "Convert string to datetime and handle missing values.\n",
    "\n",
    "1. Convert string to datetime and handle missing values\n",
    "2. Assemble datetime from multiple columns.\n",
    "3. Extract year month day from a date column.\n",
    "4. Select data between two dates.\n",
    "5. Calculate the duration between two dates.\n",
    "6. Select data with a specific year and perform aggregations.\n"
   ]
  },
  {
   "cell_type": "markdown",
   "metadata": {
    "id": "ZwQ3SH5K8p_y"
   },
   "source": [
    "**1. Convert string to datatime and handle missing values**"
   ]
  },
  {
   "cell_type": "code",
   "execution_count": 2,
   "metadata": {
    "id": "7LbVjcB98yHh"
   },
   "outputs": [],
   "source": [
    "import pandas as pd\n",
    "df = pd.DataFrame({'date': ['2016-6-10 20:30:0', \n",
    "                            '2016-7-1 19:45:30', \n",
    "                            '2013-10-12 4:5:1'],\n",
    "                   'value': [2, 3, 4]})\n",
    "df\n",
    "\n",
    "df['date'] = pd.to_datetime(df['date'], dayfirst = False)\n",
    "\n",
    "\n",
    "df['date'] = pd.to_datetime(df['date'], format=\"%Y-%d-%m %H:%M:%S\")"
   ]
  },
  {
   "cell_type": "markdown",
   "metadata": {
    "id": "gArvaJfq9EvB"
   },
   "source": [
    "The date data types is still string. We can use to_datetime function to convert it to datetime data type.\n",
    "If the given format is not in order, you can custom date format."
   ]
  },
  {
   "cell_type": "code",
   "execution_count": 3,
   "metadata": {
    "id": "s_jZHpWm9lJ4"
   },
   "outputs": [],
   "source": [
    "#Handle Null value\n",
    "# Ignore it: (the incorrect or null value still be read in string format)\n",
    "df['date'] = pd.to_datetime(df['date'], errors='ignore')\n",
    "\n",
    "# Eliminate it (let s assume there are null values in date column: \n",
    "df = df.dropna(subset=['date'])\n",
    "# if you want to drop null value in multiple columns you can just add more\n",
    "# column name in the subset (beside date)"
   ]
  },
  {
   "cell_type": "markdown",
   "metadata": {
    "id": "zqoW_n7l9FOp"
   },
   "source": [
    "**2. Assemble datetime from multiple columns.**"
   ]
  },
  {
   "cell_type": "code",
   "execution_count": 19,
   "metadata": {
    "id": "PtxxmN9z9FfT"
   },
   "outputs": [],
   "source": [
    "df = pd.DataFrame({'id': ['1', '2', '3', '4'],\n",
    "                   'name': ['Ethan', 'Alison', 'Jolie', 'nick'],\n",
    "                   'date': ['2022-01-01', '2022-01-02', '2022-01-03','2022-01-04' ],\n",
    "                   'time': ['12:00:00', '13:00:00', '14:00:00', '15:00:00']})\n",
    "\n",
    "df['datetime'] = pd.to_datetime(df['date'] + ' ' + df['time'])\n"
   ]
  },
  {
   "cell_type": "markdown",
   "metadata": {
    "id": "dDOIXX069Fs7"
   },
   "source": [
    "**3. Extract year month day from a date column.**"
   ]
  },
  {
   "cell_type": "code",
   "execution_count": 22,
   "metadata": {
    "id": "f47HGm9u9F_P"
   },
   "outputs": [
    {
     "data": {
      "text/plain": [
       "0    1\n",
       "1    1\n",
       "2    1\n",
       "3    1\n",
       "Name: month, dtype: int64"
      ]
     },
     "execution_count": 22,
     "metadata": {},
     "output_type": "execute_result"
    }
   ],
   "source": [
    "df['year']= df['datetime'].dt.year\n",
    "df['month']= df['datetime'].dt.month\n",
    "df['day']= df['datetime'].dt.day\n",
    "\n",
    "df['year']\n",
    "\n",
    "df['month']"
   ]
  },
  {
   "cell_type": "markdown",
   "metadata": {
    "id": "uyUepXQP9GPo"
   },
   "source": [
    "**4. Select data between two dates.**"
   ]
  },
  {
   "cell_type": "code",
   "execution_count": 12,
   "metadata": {
    "id": "b0A673N79Gmx"
   },
   "outputs": [
    {
     "name": "stdout",
     "output_type": "stream",
     "text": [
      "  id    name        date      time            datetime  year  month  day\n",
      "1  2  Alison  2022-01-02  13:00:00 2022-01-02 13:00:00  2022      1    2\n",
      "2  3   Jolie  2022-01-03  14:00:00 2022-01-03 14:00:00  2022      1    3\n"
     ]
    }
   ],
   "source": [
    "start_date = '2022-01-02'\n",
    "end_date = '2022-01-04'\n",
    "\n",
    "mask = (df['datetime'] >= start_date) & (df['datetime'] <= end_date)\n",
    "result = df.loc[mask]\n",
    "\n",
    "print(result)"
   ]
  },
  {
   "cell_type": "markdown",
   "metadata": {
    "id": "UhzrTqtd77HX"
   },
   "source": [
    "**5. Calculate the duration between two dates.**\n",
    "\n",
    "\n"
   ]
  },
  {
   "cell_type": "code",
   "execution_count": 13,
   "metadata": {
    "id": "gHJoD_sF9DPa"
   },
   "outputs": [],
   "source": [
    "df['second_datetime'] = pd.to_datetime('2022-01-06 12:00:00')\n",
    "df['duration'] = df['second_datetime'] - df['datetime']\n",
    "df['duration_days'] = df['duration'].dt.days\n"
   ]
  },
  {
   "cell_type": "markdown",
   "metadata": {
    "id": "DOprbU0V9DwF"
   },
   "source": [
    "**6. Select data with a specific year and perform aggregations.**"
   ]
  },
  {
   "cell_type": "code",
   "execution_count": 32,
   "metadata": {},
   "outputs": [
    {
     "data": {
      "text/plain": [
       "0    2021-01-01\n",
       "1    2022-01-02\n",
       "2    2022-01-03\n",
       "3    2024-01-04\n",
       "4    2028-01-02\n",
       "5    2022-01-02\n",
       "Name: birth_day, dtype: object"
      ]
     },
     "execution_count": 32,
     "metadata": {},
     "output_type": "execute_result"
    }
   ],
   "source": [
    "df = pd.DataFrame({'id': ['0','1', '2', '3', '4','5'],\n",
    "                   'candy':['4','2','1','4','5','5'],\n",
    "                   'name': ['Ethan', 'Alison', 'Jolie', 'nick','Hai','Jpl'],\n",
    "                   'birth_day': ['2021-01-01', '2022-01-02', '2022-01-03','2024-01-04','2028-01-02','2022-01-02'],\n",
    "                   'play_hour': ['12:00:00', '13:00:00', '14:00:00', '15:00:00','13:00:00','13:00:00']})\n",
    "\n",
    "df['birth_day']"
   ]
  },
  {
   "cell_type": "code",
   "execution_count": 34,
   "metadata": {
    "id": "p5GGAPGP9EEC"
   },
   "outputs": [],
   "source": [
    "#Change candy to numeric and change birth_daty to datetime \n",
    "df['candy'] = pd.to_numeric(df['candy'])\n",
    "df['birth_day'] = pd.to_datetime(df['birth_day'])\n"
   ]
  },
  {
   "cell_type": "code",
   "execution_count": 35,
   "metadata": {
    "id": "VKO0Lgd898H8"
   },
   "outputs": [
    {
     "name": "stderr",
     "output_type": "stream",
     "text": [
      "C:\\Users\\Radhakrishna\\AppData\\Local\\Temp\\ipykernel_17736\\3818894821.py:5: FutureWarning: The default value of numeric_only in DataFrameGroupBy.sum is deprecated. In a future version, numeric_only will default to False. Either specify numeric_only or select only columns which should be valid for the function.\n",
      "  df_day = df[year_born == 2022].groupby(year_born).sum()\n"
     ]
    },
    {
     "data": {
      "text/html": [
       "<div>\n",
       "<style scoped>\n",
       "    .dataframe tbody tr th:only-of-type {\n",
       "        vertical-align: middle;\n",
       "    }\n",
       "\n",
       "    .dataframe tbody tr th {\n",
       "        vertical-align: top;\n",
       "    }\n",
       "\n",
       "    .dataframe thead th {\n",
       "        text-align: right;\n",
       "    }\n",
       "</style>\n",
       "<table border=\"1\" class=\"dataframe\">\n",
       "  <thead>\n",
       "    <tr style=\"text-align: right;\">\n",
       "      <th></th>\n",
       "      <th>candy</th>\n",
       "    </tr>\n",
       "    <tr>\n",
       "      <th>birth_day</th>\n",
       "      <th></th>\n",
       "    </tr>\n",
       "  </thead>\n",
       "  <tbody>\n",
       "    <tr>\n",
       "      <th>2022</th>\n",
       "      <td>8</td>\n",
       "    </tr>\n",
       "  </tbody>\n",
       "</table>\n",
       "</div>"
      ],
      "text/plain": [
       "           candy\n",
       "birth_day       \n",
       "2022           8"
      ]
     },
     "execution_count": 35,
     "metadata": {},
     "output_type": "execute_result"
    }
   ],
   "source": [
    "#get the year from birth_day\n",
    "year_born = df['birth_day'].dt.year\n",
    "\n",
    "#get data for people born in 2022, then group by year born, sum up \n",
    "df_day = df[year_born == 2022].groupby(year_born).sum()\n",
    "df_day"
   ]
  },
  {
   "cell_type": "markdown",
   "metadata": {
    "id": "8Kf6Go8c9ETt"
   },
   "source": []
  }
 ],
 "metadata": {
  "colab": {
   "authorship_tag": "ABX9TyMnVipmaKcp6MZS+V015WXU",
   "include_colab_link": true,
   "provenance": []
  },
  "kernelspec": {
   "display_name": "Python 3 (ipykernel)",
   "language": "python",
   "name": "python3"
  },
  "language_info": {
   "codemirror_mode": {
    "name": "ipython",
    "version": 3
   },
   "file_extension": ".py",
   "mimetype": "text/x-python",
   "name": "python",
   "nbconvert_exporter": "python",
   "pygments_lexer": "ipython3",
   "version": "3.10.9"
  }
 },
 "nbformat": 4,
 "nbformat_minor": 1
}
